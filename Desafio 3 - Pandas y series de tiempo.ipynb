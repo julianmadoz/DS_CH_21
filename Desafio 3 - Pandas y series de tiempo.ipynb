{
  "nbformat": 4,
  "nbformat_minor": 0,
  "metadata": {
    "colab": {
      "name": "Desafio clase 6",
      "provenance": []
    },
    "kernelspec": {
      "name": "python3",
      "display_name": "Python 3"
    },
    "language_info": {
      "name": "python"
    }
  },
  "cells": [
    {
      "cell_type": "markdown",
      "metadata": {
        "id": "8aX-lPOrjOc9"
      },
      "source": [
        "# Imports"
      ]
    },
    {
      "cell_type": "code",
      "metadata": {
        "id": "fJTlFkO4hQqe"
      },
      "source": [
        "import pandas as pd"
      ],
      "execution_count": 168,
      "outputs": []
    },
    {
      "cell_type": "markdown",
      "metadata": {
        "id": "9sticKJyjQFG"
      },
      "source": [
        "# Load"
      ]
    },
    {
      "cell_type": "code",
      "metadata": {
        "id": "zkSGrpQjhVf7"
      },
      "source": [
        "def load_dataframe_from_url(url, encoding = 'utf-8'):\n",
        "    path = 'https://drive.google.com/uc?export=download&id='+url.split('/')[-2]\n",
        "    df = pd.read_csv(path, encoding = encoding)\n",
        "    return df\n",
        "\n",
        "\n",
        "url = \"https://drive.google.com/file/d/1F3L_igH1kJ_Rx44rKRjRVAtrPMulYRsY/view?usp=sharing\"\n",
        "df = load_dataframe_from_url(url, encoding = 'ISO-8859-1')"
      ],
      "execution_count": 222,
      "outputs": []
    },
    {
      "cell_type": "markdown",
      "metadata": {
        "id": "VmjlGR-EjSKx"
      },
      "source": [
        "# Punto 1: crear datetime index "
      ]
    },
    {
      "cell_type": "code",
      "metadata": {
        "colab": {
          "base_uri": "https://localhost:8080/"
        },
        "id": "YjCMxdwmmZK9",
        "outputId": "7f8105b3-ce3a-4390-a690-17d8d5276ccb"
      },
      "source": [
        "print('Hay %g lineas sin año' % (df.Year.isnull().sum()))\n",
        "df = df[df.Year.isnull() == False].copy() #elimino filas sin año"
      ],
      "execution_count": 170,
      "outputs": [
        {
          "output_type": "stream",
          "text": [
            "Hay 117 lineas sin año\n"
          ],
          "name": "stdout"
        }
      ]
    },
    {
      "cell_type": "code",
      "metadata": {
        "colab": {
          "base_uri": "https://localhost:8080/"
        },
        "id": "hMeut3aphYy3",
        "outputId": "ce1305fe-fd6e-433e-ae1d-9aaedc514242"
      },
      "source": [
        "dateindex = pd.DatetimeIndex(pd.to_datetime(df.Year,  format='%Y')).copy()\n",
        "serie_atletas =  df.set_index(dateindex).Athlete\n",
        "serie_atletas"
      ],
      "execution_count": 171,
      "outputs": [
        {
          "output_type": "execute_result",
          "data": {
            "text/plain": [
              "Year\n",
              "1976-01-01             KÖHLER, Christa\n",
              "1976-01-01         KOSENKOV, Aleksandr\n",
              "1976-01-01        BOGGS, Philip George\n",
              "1976-01-01    CAGNOTTO, Giorgio Franco\n",
              "1976-01-01      WILSON, Deborah Keplar\n",
              "                        ...           \n",
              "2008-01-01          GUENOT, Christophe\n",
              "2008-01-01         KVIRKELIA, Manuchar\n",
              "2008-01-01            RAHIMOV, Vitaliy\n",
              "2008-01-01              GUENOT, Steeve\n",
              "2008-01-01               LOPEZ, Mijain\n",
              "Name: Athlete, Length: 15316, dtype: object"
            ]
          },
          "metadata": {
            "tags": []
          },
          "execution_count": 171
        }
      ]
    },
    {
      "cell_type": "markdown",
      "metadata": {
        "id": "6usgAT9psd1z"
      },
      "source": [
        "# Punto 2: Separar el nombre en dos columnas"
      ]
    },
    {
      "cell_type": "code",
      "metadata": {
        "colab": {
          "base_uri": "https://localhost:8080/",
          "height": 424
        },
        "id": "fas3HDrEsdpv",
        "outputId": "b0ab6f3f-fed6-4648-dc9b-1f1356bc7244"
      },
      "source": [
        "df[['Surname', 'Name']] = df['Athlete'].apply(lambda x: pd.Series(str(x).split(\",\", maxsplit=1)))\n",
        "df"
      ],
      "execution_count": 172,
      "outputs": [
        {
          "output_type": "execute_result",
          "data": {
            "text/html": [
              "<div>\n",
              "<style scoped>\n",
              "    .dataframe tbody tr th:only-of-type {\n",
              "        vertical-align: middle;\n",
              "    }\n",
              "\n",
              "    .dataframe tbody tr th {\n",
              "        vertical-align: top;\n",
              "    }\n",
              "\n",
              "    .dataframe thead th {\n",
              "        text-align: right;\n",
              "    }\n",
              "</style>\n",
              "<table border=\"1\" class=\"dataframe\">\n",
              "  <thead>\n",
              "    <tr style=\"text-align: right;\">\n",
              "      <th></th>\n",
              "      <th>City</th>\n",
              "      <th>Year</th>\n",
              "      <th>Sport</th>\n",
              "      <th>Discipline</th>\n",
              "      <th>Event</th>\n",
              "      <th>Athlete</th>\n",
              "      <th>Gender</th>\n",
              "      <th>Country_Code</th>\n",
              "      <th>Country</th>\n",
              "      <th>Event_gender</th>\n",
              "      <th>Medal</th>\n",
              "      <th>Surname</th>\n",
              "      <th>Name</th>\n",
              "    </tr>\n",
              "  </thead>\n",
              "  <tbody>\n",
              "    <tr>\n",
              "      <th>0</th>\n",
              "      <td>Montreal</td>\n",
              "      <td>1976.0</td>\n",
              "      <td>Aquatics</td>\n",
              "      <td>Diving</td>\n",
              "      <td>3m springboard</td>\n",
              "      <td>KÖHLER, Christa</td>\n",
              "      <td>Women</td>\n",
              "      <td>GDR</td>\n",
              "      <td>East Germany</td>\n",
              "      <td>W</td>\n",
              "      <td>Silver</td>\n",
              "      <td>KÖHLER</td>\n",
              "      <td>Christa</td>\n",
              "    </tr>\n",
              "    <tr>\n",
              "      <th>1</th>\n",
              "      <td>Montreal</td>\n",
              "      <td>1976.0</td>\n",
              "      <td>Aquatics</td>\n",
              "      <td>Diving</td>\n",
              "      <td>3m springboard</td>\n",
              "      <td>KOSENKOV, Aleksandr</td>\n",
              "      <td>Men</td>\n",
              "      <td>URS</td>\n",
              "      <td>Soviet Union</td>\n",
              "      <td>M</td>\n",
              "      <td>Bronze</td>\n",
              "      <td>KOSENKOV</td>\n",
              "      <td>Aleksandr</td>\n",
              "    </tr>\n",
              "    <tr>\n",
              "      <th>2</th>\n",
              "      <td>Montreal</td>\n",
              "      <td>1976.0</td>\n",
              "      <td>Aquatics</td>\n",
              "      <td>Diving</td>\n",
              "      <td>3m springboard</td>\n",
              "      <td>BOGGS, Philip George</td>\n",
              "      <td>Men</td>\n",
              "      <td>USA</td>\n",
              "      <td>United States</td>\n",
              "      <td>M</td>\n",
              "      <td>Gold</td>\n",
              "      <td>BOGGS</td>\n",
              "      <td>Philip George</td>\n",
              "    </tr>\n",
              "    <tr>\n",
              "      <th>3</th>\n",
              "      <td>Montreal</td>\n",
              "      <td>1976.0</td>\n",
              "      <td>Aquatics</td>\n",
              "      <td>Diving</td>\n",
              "      <td>3m springboard</td>\n",
              "      <td>CAGNOTTO, Giorgio Franco</td>\n",
              "      <td>Men</td>\n",
              "      <td>ITA</td>\n",
              "      <td>Italy</td>\n",
              "      <td>M</td>\n",
              "      <td>Silver</td>\n",
              "      <td>CAGNOTTO</td>\n",
              "      <td>Giorgio Franco</td>\n",
              "    </tr>\n",
              "    <tr>\n",
              "      <th>4</th>\n",
              "      <td>Montreal</td>\n",
              "      <td>1976.0</td>\n",
              "      <td>Aquatics</td>\n",
              "      <td>Diving</td>\n",
              "      <td>10m platform</td>\n",
              "      <td>WILSON, Deborah Keplar</td>\n",
              "      <td>Women</td>\n",
              "      <td>USA</td>\n",
              "      <td>United States</td>\n",
              "      <td>W</td>\n",
              "      <td>Bronze</td>\n",
              "      <td>WILSON</td>\n",
              "      <td>Deborah Keplar</td>\n",
              "    </tr>\n",
              "    <tr>\n",
              "      <th>...</th>\n",
              "      <td>...</td>\n",
              "      <td>...</td>\n",
              "      <td>...</td>\n",
              "      <td>...</td>\n",
              "      <td>...</td>\n",
              "      <td>...</td>\n",
              "      <td>...</td>\n",
              "      <td>...</td>\n",
              "      <td>...</td>\n",
              "      <td>...</td>\n",
              "      <td>...</td>\n",
              "      <td>...</td>\n",
              "      <td>...</td>\n",
              "    </tr>\n",
              "    <tr>\n",
              "      <th>15428</th>\n",
              "      <td>Beijing</td>\n",
              "      <td>2008.0</td>\n",
              "      <td>Wrestling</td>\n",
              "      <td>Wrestling Gre-R</td>\n",
              "      <td>66 - 74kg</td>\n",
              "      <td>GUENOT, Christophe</td>\n",
              "      <td>Men</td>\n",
              "      <td>FRA</td>\n",
              "      <td>France</td>\n",
              "      <td>M</td>\n",
              "      <td>Bronze</td>\n",
              "      <td>GUENOT</td>\n",
              "      <td>Christophe</td>\n",
              "    </tr>\n",
              "    <tr>\n",
              "      <th>15429</th>\n",
              "      <td>Beijing</td>\n",
              "      <td>2008.0</td>\n",
              "      <td>Wrestling</td>\n",
              "      <td>Wrestling Gre-R</td>\n",
              "      <td>66 - 74kg</td>\n",
              "      <td>KVIRKELIA, Manuchar</td>\n",
              "      <td>Men</td>\n",
              "      <td>GEO</td>\n",
              "      <td>Georgia</td>\n",
              "      <td>M</td>\n",
              "      <td>Gold</td>\n",
              "      <td>KVIRKELIA</td>\n",
              "      <td>Manuchar</td>\n",
              "    </tr>\n",
              "    <tr>\n",
              "      <th>15430</th>\n",
              "      <td>Beijing</td>\n",
              "      <td>2008.0</td>\n",
              "      <td>Wrestling</td>\n",
              "      <td>Wrestling Gre-R</td>\n",
              "      <td>55 - 60kg</td>\n",
              "      <td>RAHIMOV, Vitaliy</td>\n",
              "      <td>Men</td>\n",
              "      <td>AZE</td>\n",
              "      <td>Azerbaijan</td>\n",
              "      <td>M</td>\n",
              "      <td>Silver</td>\n",
              "      <td>RAHIMOV</td>\n",
              "      <td>Vitaliy</td>\n",
              "    </tr>\n",
              "    <tr>\n",
              "      <th>15431</th>\n",
              "      <td>Beijing</td>\n",
              "      <td>2008.0</td>\n",
              "      <td>Wrestling</td>\n",
              "      <td>Wrestling Gre-R</td>\n",
              "      <td>60 - 66kg</td>\n",
              "      <td>GUENOT, Steeve</td>\n",
              "      <td>Men</td>\n",
              "      <td>FRA</td>\n",
              "      <td>France</td>\n",
              "      <td>M</td>\n",
              "      <td>Gold</td>\n",
              "      <td>GUENOT</td>\n",
              "      <td>Steeve</td>\n",
              "    </tr>\n",
              "    <tr>\n",
              "      <th>15432</th>\n",
              "      <td>Beijing</td>\n",
              "      <td>2008.0</td>\n",
              "      <td>Wrestling</td>\n",
              "      <td>Wrestling Gre-R</td>\n",
              "      <td>96 - 120kg</td>\n",
              "      <td>LOPEZ, Mijain</td>\n",
              "      <td>Men</td>\n",
              "      <td>CUB</td>\n",
              "      <td>Cuba</td>\n",
              "      <td>M</td>\n",
              "      <td>Gold</td>\n",
              "      <td>LOPEZ</td>\n",
              "      <td>Mijain</td>\n",
              "    </tr>\n",
              "  </tbody>\n",
              "</table>\n",
              "<p>15316 rows × 13 columns</p>\n",
              "</div>"
            ],
            "text/plain": [
              "           City    Year      Sport  ...   Medal    Surname             Name\n",
              "0      Montreal  1976.0   Aquatics  ...  Silver     KÖHLER          Christa\n",
              "1      Montreal  1976.0   Aquatics  ...  Bronze   KOSENKOV        Aleksandr\n",
              "2      Montreal  1976.0   Aquatics  ...    Gold      BOGGS    Philip George\n",
              "3      Montreal  1976.0   Aquatics  ...  Silver   CAGNOTTO   Giorgio Franco\n",
              "4      Montreal  1976.0   Aquatics  ...  Bronze     WILSON   Deborah Keplar\n",
              "...         ...     ...        ...  ...     ...        ...              ...\n",
              "15428   Beijing  2008.0  Wrestling  ...  Bronze     GUENOT       Christophe\n",
              "15429   Beijing  2008.0  Wrestling  ...    Gold  KVIRKELIA         Manuchar\n",
              "15430   Beijing  2008.0  Wrestling  ...  Silver    RAHIMOV          Vitaliy\n",
              "15431   Beijing  2008.0  Wrestling  ...    Gold     GUENOT           Steeve\n",
              "15432   Beijing  2008.0  Wrestling  ...    Gold      LOPEZ           Mijain\n",
              "\n",
              "[15316 rows x 13 columns]"
            ]
          },
          "metadata": {
            "tags": []
          },
          "execution_count": 172
        }
      ]
    },
    {
      "cell_type": "markdown",
      "metadata": {
        "id": "wW85gQ-T1MSe"
      },
      "source": [
        "# Punto 3: Cantidad de medallas"
      ]
    },
    {
      "cell_type": "code",
      "metadata": {
        "colab": {
          "base_uri": "https://localhost:8080/"
        },
        "id": "c8TqQkztmJIG",
        "outputId": "1745ccc3-2de0-49bd-bac4-66c164551fd6"
      },
      "source": [
        "medallas = df.pivot_table(index='Country', columns='Medal', values='City', aggfunc='count').fillna(0)\n",
        "medallas['Total'] = medallas.sum(axis=1)\n",
        "medallas['prop'] = medallas.Gold / medallas.Total\n",
        "masganador = medallas.sort_values('Total', ascending=False).reset_index().loc[0,'Country']\n",
        "masoro = medallas.sort_values('Gold', ascending=False).reset_index().loc[0,'Country']\n",
        "mejorprop = medallas[medallas.Total > 1].sort_values('prop', ascending=False).reset_index().loc[0,'Country']\n",
        "\n",
        "print('El país que mas medallas gano en total es ' + masganador)\n",
        "print('El pais que mas medalles de oro gano es ' + masoro)\n",
        "print('El pais con mayor proporcion de medallas de oro es ' + mejorprop)\n"
      ],
      "execution_count": 208,
      "outputs": [
        {
          "output_type": "stream",
          "text": [
            "El país que mas medallas gano en total es United States\n",
            "El pais que mas medalles de oro gano es United States\n",
            "El pais con mayor proporcion de medallas de oro es Cameroon\n"
          ],
          "name": "stdout"
        }
      ]
    },
    {
      "cell_type": "markdown",
      "metadata": {
        "id": "AlaG0jf-6HOR"
      },
      "source": [
        "# Punto 4: Cantidad de medallas obtenidas por año"
      ]
    },
    {
      "cell_type": "code",
      "metadata": {
        "colab": {
          "base_uri": "https://localhost:8080/",
          "height": 394
        },
        "id": "fKA9_hNZ5zMp",
        "outputId": "c6f1c5b8-b699-4705-8aa4-e3019c827b21"
      },
      "source": [
        "medallas_m = df[df.Gender == 'Men'].pivot_table(index= 'Year', columns=['Medal'], values = 'City', aggfunc='count',margins=True,margins_name='Total')\n",
        "medallas_m"
      ],
      "execution_count": 227,
      "outputs": [
        {
          "output_type": "execute_result",
          "data": {
            "text/html": [
              "<div>\n",
              "<style scoped>\n",
              "    .dataframe tbody tr th:only-of-type {\n",
              "        vertical-align: middle;\n",
              "    }\n",
              "\n",
              "    .dataframe tbody tr th {\n",
              "        vertical-align: top;\n",
              "    }\n",
              "\n",
              "    .dataframe thead th {\n",
              "        text-align: right;\n",
              "    }\n",
              "</style>\n",
              "<table border=\"1\" class=\"dataframe\">\n",
              "  <thead>\n",
              "    <tr style=\"text-align: right;\">\n",
              "      <th>Medal</th>\n",
              "      <th>Bronze</th>\n",
              "      <th>Gold</th>\n",
              "      <th>Silver</th>\n",
              "      <th>Total</th>\n",
              "    </tr>\n",
              "    <tr>\n",
              "      <th>Year</th>\n",
              "      <th></th>\n",
              "      <th></th>\n",
              "      <th></th>\n",
              "      <th></th>\n",
              "    </tr>\n",
              "  </thead>\n",
              "  <tbody>\n",
              "    <tr>\n",
              "      <th>1976.0</th>\n",
              "      <td>321</td>\n",
              "      <td>302</td>\n",
              "      <td>301</td>\n",
              "      <td>924</td>\n",
              "    </tr>\n",
              "    <tr>\n",
              "      <th>1980.0</th>\n",
              "      <td>328</td>\n",
              "      <td>317</td>\n",
              "      <td>313</td>\n",
              "      <td>958</td>\n",
              "    </tr>\n",
              "    <tr>\n",
              "      <th>1984.0</th>\n",
              "      <td>338</td>\n",
              "      <td>320</td>\n",
              "      <td>315</td>\n",
              "      <td>973</td>\n",
              "    </tr>\n",
              "    <tr>\n",
              "      <th>1988.0</th>\n",
              "      <td>352</td>\n",
              "      <td>334</td>\n",
              "      <td>325</td>\n",
              "      <td>1011</td>\n",
              "    </tr>\n",
              "    <tr>\n",
              "      <th>1992.0</th>\n",
              "      <td>391</td>\n",
              "      <td>358</td>\n",
              "      <td>356</td>\n",
              "      <td>1105</td>\n",
              "    </tr>\n",
              "    <tr>\n",
              "      <th>1996.0</th>\n",
              "      <td>374</td>\n",
              "      <td>356</td>\n",
              "      <td>352</td>\n",
              "      <td>1082</td>\n",
              "    </tr>\n",
              "    <tr>\n",
              "      <th>2000.0</th>\n",
              "      <td>386</td>\n",
              "      <td>370</td>\n",
              "      <td>370</td>\n",
              "      <td>1126</td>\n",
              "    </tr>\n",
              "    <tr>\n",
              "      <th>2004.0</th>\n",
              "      <td>376</td>\n",
              "      <td>361</td>\n",
              "      <td>362</td>\n",
              "      <td>1099</td>\n",
              "    </tr>\n",
              "    <tr>\n",
              "      <th>2008.0</th>\n",
              "      <td>391</td>\n",
              "      <td>362</td>\n",
              "      <td>357</td>\n",
              "      <td>1110</td>\n",
              "    </tr>\n",
              "    <tr>\n",
              "      <th>Total</th>\n",
              "      <td>3257</td>\n",
              "      <td>3080</td>\n",
              "      <td>3051</td>\n",
              "      <td>9388</td>\n",
              "    </tr>\n",
              "  </tbody>\n",
              "</table>\n",
              "</div>"
            ],
            "text/plain": [
              "Medal   Bronze  Gold  Silver  Total\n",
              "Year                               \n",
              "1976.0     321   302     301    924\n",
              "1980.0     328   317     313    958\n",
              "1984.0     338   320     315    973\n",
              "1988.0     352   334     325   1011\n",
              "1992.0     391   358     356   1105\n",
              "1996.0     374   356     352   1082\n",
              "2000.0     386   370     370   1126\n",
              "2004.0     376   361     362   1099\n",
              "2008.0     391   362     357   1110\n",
              "Total     3257  3080    3051   9388"
            ]
          },
          "metadata": {
            "tags": []
          },
          "execution_count": 227
        }
      ]
    }
  ]
}