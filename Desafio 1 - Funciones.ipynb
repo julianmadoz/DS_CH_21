{
  "nbformat": 4,
  "nbformat_minor": 0,
  "metadata": {
    "colab": {
      "name": "Desafio 1.ipynb",
      "provenance": []
    },
    "kernelspec": {
      "name": "python3",
      "display_name": "Python 3"
    },
    "language_info": {
      "name": "python"
    }
  },
  "cells": [
    {
      "cell_type": "markdown",
      "metadata": {
        "id": "abSWGNgyhykT"
      },
      "source": [
        "# Factorial"
      ]
    },
    {
      "cell_type": "code",
      "metadata": {
        "colab": {
          "base_uri": "https://localhost:8080/"
        },
        "id": "q4i_P0dthyWL",
        "outputId": "3b6efa8d-ffc3-4a13-f66d-aae6ab165c8f"
      },
      "source": [
        "def fact(num):\n",
        "  if num < 0:\n",
        "    return 'Error: debe introducir un número mayor a 0'\n",
        "  total = 1\n",
        "  for i in range(1,num + 1):\n",
        "    total *= i\n",
        "  return total\n",
        "\n",
        "print('Calculando el factorial de 9:')\n",
        "print('Mi función dice que es:     ', fact(9))\n",
        "print('Haciendo el cálculo manual: ', str(9*8*7*6*5*4*3*2*1))\n",
        "\n",
        "\n"
      ],
      "execution_count": 41,
      "outputs": [
        {
          "output_type": "stream",
          "text": [
            "Calculando el factorial de 9:\n",
            "Mi función dice que es:      362880\n",
            "Haciendo el cálculo manual:  362880\n"
          ],
          "name": "stdout"
        }
      ]
    },
    {
      "cell_type": "markdown",
      "metadata": {
        "id": "ykKr7EdHkriR"
      },
      "source": [
        "# Sumatoria"
      ]
    },
    {
      "cell_type": "code",
      "metadata": {
        "colab": {
          "base_uri": "https://localhost:8080/"
        },
        "id": "2RJdNaBckrEs",
        "outputId": "f9a94796-3ef0-4417-cf78-bcbcca9f088b"
      },
      "source": [
        "def sumatoria(min, max):\n",
        "  total = 0\n",
        "  # si se quiere que ambos sean positivos se puede agregar la siguiente condición\n",
        "  # if min > 0 or max<0:\n",
        "  #   return 'Error: Los números deben ser positivos'\n",
        "  if max < min:\n",
        "    return 'Error: el primer número debe ser menor o igual al segundo'\n",
        "\n",
        "  for i in range (min, max+1):\n",
        "    total += i\n",
        "  return total\n",
        "\n",
        "print('Calculando la sumatoria del 5 al 9: ')\n",
        "print('Mi función dice que es:     ', sumatoria(5,9))\n",
        "print('Haciendo el cálculo manual: ', str(5+6+7+8+9))"
      ],
      "execution_count": 43,
      "outputs": [
        {
          "output_type": "stream",
          "text": [
            "Calculando la sumatoria del 5 al 9: \n",
            "Mi función dice que es:      35\n",
            "Haciendo el cálculo manual:  35\n"
          ],
          "name": "stdout"
        }
      ]
    }
  ]
}