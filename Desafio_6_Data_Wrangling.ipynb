{
  "nbformat": 4,
  "nbformat_minor": 0,
  "metadata": {
    "colab": {
      "name": "Desafio 6 - Data Wrangling",
      "provenance": [],
      "authorship_tag": "ABX9TyPH3cWRAhLN5qAm8iFBBZ20",
      "include_colab_link": true
    },
    "kernelspec": {
      "name": "python3",
      "display_name": "Python 3"
    },
    "language_info": {
      "name": "python"
    }
  },
  "cells": [
    {
      "cell_type": "markdown",
      "metadata": {
        "id": "view-in-github",
        "colab_type": "text"
      },
      "source": [
        "<a href=\"https://colab.research.google.com/github/julianmadoz/DS_CH_21/blob/main/Desafio_6_Data_Wrangling.ipynb\" target=\"_parent\"><img src=\"https://colab.research.google.com/assets/colab-badge.svg\" alt=\"Open In Colab\"/></a>"
      ]
    },
    {
      "cell_type": "markdown",
      "metadata": {
        "id": "r3p41R4aj0ug"
      },
      "source": [
        "## Load"
      ]
    },
    {
      "cell_type": "code",
      "metadata": {
        "id": "rluNJGMSiwnl"
      },
      "source": [
        "import pandas as pd\n",
        "\n",
        "def load_dataframe_from_url(url, encoding = 'utf-8'):\n",
        "    path = 'https://drive.google.com/uc?export=download&id='+url.split('/')[-2]\n",
        "    df = pd.read_csv(path, encoding = encoding, sep=';')\n",
        "    return df\n",
        "\n",
        "url_w = 'https://drive.google.com/file/d/1cMs7K2IYxHI7LpN1tX7lrjOo0wlEqEdj/view?usp=sharing'\n",
        "url_p = 'https://drive.google.com/file/d/1suPu2h6TRl-OHMlt54QEjXNsEcA3DFvy/view?usp=sharing'\n",
        "\n",
        "df_w = load_dataframe_from_url(url_w, encoding = 'ISO-8859-1').set_index('ID')\n",
        "df_p = load_dataframe_from_url(url_p, encoding = 'ISO-8859-1')"
      ],
      "execution_count": 297,
      "outputs": []
    },
    {
      "cell_type": "markdown",
      "metadata": {
        "id": "3EvmN27BpITk"
      },
      "source": [
        "## Clean"
      ]
    },
    {
      "cell_type": "code",
      "metadata": {
        "colab": {
          "base_uri": "https://localhost:8080/"
        },
        "id": "Pr7OM4F_pKQv",
        "outputId": "8f561b9f-0b82-4350-9672-c473fe9deb91"
      },
      "source": [
        "print(df_w[df_w.isna().any(axis=1)])\n",
        "print(df_p[df_p.isna().any(axis=1)])"
      ],
      "execution_count": 307,
      "outputs": [
        {
          "output_type": "stream",
          "name": "stdout",
          "text": [
            "Empty DataFrame\n",
            "Columns: [Workclass, fnlwgt, Capital Gain, Capital Loss, Hours per week, Target]\n",
            "Index: []\n",
            "Empty DataFrame\n",
            "Columns: [Age, Sex, ID, Race, Country, Education, Education-Num, Marital Status, Relationship]\n",
            "Index: []\n"
          ]
        }
      ]
    },
    {
      "cell_type": "code",
      "metadata": {
        "id": "JIPfcoTiqLUA"
      },
      "source": [
        "#safely drop these 2 rows\n",
        "df_w.dropna(inplace=True)\n",
        "df_p.dropna(inplace=True)\n",
        "#change labels\n",
        "df_w.Target.unique() # returns  [' <=50K', ' >50K', ' <=50K.', ' >50K.']\n",
        "df_w['Target'] = df_w.Target.apply(lambda x: x[1:] if x[-1]!='.' else x[1:-1]) #get rid of the dot and whitespace. DOT NOT RUN TWICE"
      ],
      "execution_count": 300,
      "outputs": []
    },
    {
      "cell_type": "markdown",
      "metadata": {
        "id": "aCvVgy3hj0Kd"
      },
      "source": [
        "## Compare tables"
      ]
    },
    {
      "cell_type": "code",
      "metadata": {
        "colab": {
          "base_uri": "https://localhost:8080/"
        },
        "id": "yPIIcVdmjkI7",
        "outputId": "7de0d71f-57b2-4b96-ef63-4ec571143167"
      },
      "source": [
        "def compare(df1, df2, index):\n",
        "    df = pd.merge(df1,df2, on=index, how='outer')\n",
        "    dif = list(df[df.isna().any(axis=1)].ID)\n",
        "    print('Tienen en común ' + str(df[index].count()) + ' filas en la columna ' + index)\n",
        "    print('No tienen en comun ' + str(len(dif)) + ' fila(s) en la columna ' + index)\n",
        "    print('Las filas distintas son: ' + str(dif))\n",
        "    return df\n",
        "df = compare(df_w, df_p, 'ID')"
      ],
      "execution_count": 301,
      "outputs": [
        {
          "output_type": "stream",
          "name": "stdout",
          "text": [
            "Tienen en común 48842 filas en la columna ID\n",
            "No tienen en comun 1 fila(s) en la columna ID\n",
            "Las filas distintas son: [1344995623]\n"
          ]
        }
      ]
    },
    {
      "cell_type": "markdown",
      "metadata": {
        "id": "NDU6myoLIzgk"
      },
      "source": [
        "## Compare groups"
      ]
    },
    {
      "cell_type": "code",
      "metadata": {
        "id": "wxJdbKnejq98"
      },
      "source": [
        "def dist50k(df, column):\n",
        "    gr = pd.pivot_table(data=df,index='Target',columns=column,values='ID',aggfunc='count')\n",
        "    gr = 100* gr / gr.sum(axis=0)\n",
        "    gr = gr.sort_values(by='>50K', axis=1, ascending=False)\n",
        "    return gr"
      ],
      "execution_count": 302,
      "outputs": []
    },
    {
      "cell_type": "code",
      "metadata": {
        "colab": {
          "base_uri": "https://localhost:8080/",
          "height": 143
        },
        "id": "Xh8sANyUDSV3",
        "outputId": "2080c1e1-bc59-42a4-a773-eb391d3d516b"
      },
      "source": [
        "dist50k(df,'Sex')"
      ],
      "execution_count": 303,
      "outputs": [
        {
          "output_type": "execute_result",
          "data": {
            "text/html": [
              "<div>\n",
              "<style scoped>\n",
              "    .dataframe tbody tr th:only-of-type {\n",
              "        vertical-align: middle;\n",
              "    }\n",
              "\n",
              "    .dataframe tbody tr th {\n",
              "        vertical-align: top;\n",
              "    }\n",
              "\n",
              "    .dataframe thead th {\n",
              "        text-align: right;\n",
              "    }\n",
              "</style>\n",
              "<table border=\"1\" class=\"dataframe\">\n",
              "  <thead>\n",
              "    <tr style=\"text-align: right;\">\n",
              "      <th>Sex</th>\n",
              "      <th>Male</th>\n",
              "      <th>Female</th>\n",
              "    </tr>\n",
              "    <tr>\n",
              "      <th>Target</th>\n",
              "      <th></th>\n",
              "      <th></th>\n",
              "    </tr>\n",
              "  </thead>\n",
              "  <tbody>\n",
              "    <tr>\n",
              "      <th>&lt;=50K</th>\n",
              "      <td>69.62541</td>\n",
              "      <td>89.074852</td>\n",
              "    </tr>\n",
              "    <tr>\n",
              "      <th>&gt;50K</th>\n",
              "      <td>30.37459</td>\n",
              "      <td>10.925148</td>\n",
              "    </tr>\n",
              "  </tbody>\n",
              "</table>\n",
              "</div>"
            ],
            "text/plain": [
              "Sex         Male     Female\n",
              "Target                     \n",
              "<=50K   69.62541  89.074852\n",
              ">50K    30.37459  10.925148"
            ]
          },
          "metadata": {},
          "execution_count": 303
        }
      ]
    },
    {
      "cell_type": "code",
      "metadata": {
        "colab": {
          "base_uri": "https://localhost:8080/",
          "height": 143
        },
        "id": "z3Tjf6FaEA4K",
        "outputId": "d7e1f96f-569a-4fc0-df4c-c527a7d23a53"
      },
      "source": [
        "dist50k(df,'Race')"
      ],
      "execution_count": 304,
      "outputs": [
        {
          "output_type": "execute_result",
          "data": {
            "text/html": [
              "<div>\n",
              "<style scoped>\n",
              "    .dataframe tbody tr th:only-of-type {\n",
              "        vertical-align: middle;\n",
              "    }\n",
              "\n",
              "    .dataframe tbody tr th {\n",
              "        vertical-align: top;\n",
              "    }\n",
              "\n",
              "    .dataframe thead th {\n",
              "        text-align: right;\n",
              "    }\n",
              "</style>\n",
              "<table border=\"1\" class=\"dataframe\">\n",
              "  <thead>\n",
              "    <tr style=\"text-align: right;\">\n",
              "      <th>Race</th>\n",
              "      <th>Asian-Pac-Islander</th>\n",
              "      <th>White</th>\n",
              "      <th>Other</th>\n",
              "      <th>Black</th>\n",
              "      <th>Amer-Indian-Eskimo</th>\n",
              "    </tr>\n",
              "    <tr>\n",
              "      <th>Target</th>\n",
              "      <th></th>\n",
              "      <th></th>\n",
              "      <th></th>\n",
              "      <th></th>\n",
              "      <th></th>\n",
              "    </tr>\n",
              "  </thead>\n",
              "  <tbody>\n",
              "    <tr>\n",
              "      <th>&lt;=50K</th>\n",
              "      <td>73.074391</td>\n",
              "      <td>74.603099</td>\n",
              "      <td>87.684729</td>\n",
              "      <td>87.91889</td>\n",
              "      <td>88.297872</td>\n",
              "    </tr>\n",
              "    <tr>\n",
              "      <th>&gt;50K</th>\n",
              "      <td>26.925609</td>\n",
              "      <td>25.396901</td>\n",
              "      <td>12.315271</td>\n",
              "      <td>12.08111</td>\n",
              "      <td>11.702128</td>\n",
              "    </tr>\n",
              "  </tbody>\n",
              "</table>\n",
              "</div>"
            ],
            "text/plain": [
              "Race     Asian-Pac-Islander      White  ...     Black   Amer-Indian-Eskimo\n",
              "Target                                  ...                               \n",
              "<=50K             73.074391  74.603099  ...  87.91889            88.297872\n",
              ">50K              26.925609  25.396901  ...  12.08111            11.702128\n",
              "\n",
              "[2 rows x 5 columns]"
            ]
          },
          "metadata": {},
          "execution_count": 304
        }
      ]
    },
    {
      "cell_type": "code",
      "metadata": {
        "colab": {
          "base_uri": "https://localhost:8080/",
          "height": 143
        },
        "id": "6W4dsGwFEBnO",
        "outputId": "a5848774-2d67-4c75-d635-59856487d3db"
      },
      "source": [
        "dist50k(df,'Education')"
      ],
      "execution_count": 305,
      "outputs": [
        {
          "output_type": "execute_result",
          "data": {
            "text/html": [
              "<div>\n",
              "<style scoped>\n",
              "    .dataframe tbody tr th:only-of-type {\n",
              "        vertical-align: middle;\n",
              "    }\n",
              "\n",
              "    .dataframe tbody tr th {\n",
              "        vertical-align: top;\n",
              "    }\n",
              "\n",
              "    .dataframe thead th {\n",
              "        text-align: right;\n",
              "    }\n",
              "</style>\n",
              "<table border=\"1\" class=\"dataframe\">\n",
              "  <thead>\n",
              "    <tr style=\"text-align: right;\">\n",
              "      <th>Education</th>\n",
              "      <th>Prof-school</th>\n",
              "      <th>Doctorate</th>\n",
              "      <th>Masters</th>\n",
              "      <th>Bachelors</th>\n",
              "      <th>Assoc-acdm</th>\n",
              "      <th>Assoc-voc</th>\n",
              "      <th>Some-college</th>\n",
              "      <th>HS-grad</th>\n",
              "      <th>12th</th>\n",
              "      <th>7th-8th</th>\n",
              "      <th>10th</th>\n",
              "      <th>9th</th>\n",
              "      <th>5th-6th</th>\n",
              "      <th>11th</th>\n",
              "      <th>1st-4th</th>\n",
              "      <th>Preschool</th>\n",
              "    </tr>\n",
              "    <tr>\n",
              "      <th>Target</th>\n",
              "      <th></th>\n",
              "      <th></th>\n",
              "      <th></th>\n",
              "      <th></th>\n",
              "      <th></th>\n",
              "      <th></th>\n",
              "      <th></th>\n",
              "      <th></th>\n",
              "      <th></th>\n",
              "      <th></th>\n",
              "      <th></th>\n",
              "      <th></th>\n",
              "      <th></th>\n",
              "      <th></th>\n",
              "      <th></th>\n",
              "      <th></th>\n",
              "    </tr>\n",
              "  </thead>\n",
              "  <tbody>\n",
              "    <tr>\n",
              "      <th>&lt;=50K</th>\n",
              "      <td>26.019185</td>\n",
              "      <td>27.441077</td>\n",
              "      <td>45.088446</td>\n",
              "      <td>58.723829</td>\n",
              "      <td>74.203623</td>\n",
              "      <td>74.672489</td>\n",
              "      <td>81.035117</td>\n",
              "      <td>84.142169</td>\n",
              "      <td>92.694064</td>\n",
              "      <td>93.507853</td>\n",
              "      <td>93.736501</td>\n",
              "      <td>94.57672</td>\n",
              "      <td>94.695481</td>\n",
              "      <td>94.922737</td>\n",
              "      <td>96.761134</td>\n",
              "      <td>98.795181</td>\n",
              "    </tr>\n",
              "    <tr>\n",
              "      <th>&gt;50K</th>\n",
              "      <td>73.980815</td>\n",
              "      <td>72.558923</td>\n",
              "      <td>54.911554</td>\n",
              "      <td>41.276171</td>\n",
              "      <td>25.796377</td>\n",
              "      <td>25.327511</td>\n",
              "      <td>18.964883</td>\n",
              "      <td>15.857831</td>\n",
              "      <td>7.305936</td>\n",
              "      <td>6.492147</td>\n",
              "      <td>6.263499</td>\n",
              "      <td>5.42328</td>\n",
              "      <td>5.304519</td>\n",
              "      <td>5.077263</td>\n",
              "      <td>3.238866</td>\n",
              "      <td>1.204819</td>\n",
              "    </tr>\n",
              "  </tbody>\n",
              "</table>\n",
              "</div>"
            ],
            "text/plain": [
              "Education   Prof-school   Doctorate  ...    1st-4th   Preschool\n",
              "Target                               ...                       \n",
              "<=50K         26.019185   27.441077  ...  96.761134   98.795181\n",
              ">50K          73.980815   72.558923  ...   3.238866    1.204819\n",
              "\n",
              "[2 rows x 16 columns]"
            ]
          },
          "metadata": {},
          "execution_count": 305
        }
      ]
    },
    {
      "cell_type": "code",
      "metadata": {
        "id": "ISvgKaZoJFw2"
      },
      "source": [
        ""
      ],
      "execution_count": null,
      "outputs": []
    }
  ]
}
