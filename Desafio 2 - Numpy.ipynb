{
  "nbformat": 4,
  "nbformat_minor": 0,
  "metadata": {
    "colab": {
      "name": "Untitled2.ipynb",
      "provenance": [],
      "collapsed_sections": []
    },
    "kernelspec": {
      "name": "python3",
      "display_name": "Python 3"
    },
    "language_info": {
      "name": "python"
    }
  },
  "cells": [
    {
      "cell_type": "code",
      "metadata": {
        "id": "RyykMSEBjf8D"
      },
      "source": [
        "import numpy as np\n",
        "import pandas as pd"
      ],
      "execution_count": 3,
      "outputs": []
    },
    {
      "cell_type": "code",
      "metadata": {
        "colab": {
          "base_uri": "https://localhost:8080/"
        },
        "id": "BDYJFfKZjs-o",
        "outputId": "6cdfe80a-f3a9-40b5-aa21-eed19da6d784"
      },
      "source": [
        "def numeros_random(maximo,cantidad):\n",
        "    rand_array = np.random.randint(maximo,size=(1,cantidad))\n",
        "    print('Se llenará un array de '+ str(cantidad) +' elementos con numeros random del 0 al ' + str(maximo))\n",
        "    # print(rand_array)\n",
        "    print('La mediana es: ' + str(np.median(rand_array) ))\n",
        "\n",
        "numeros_random(20, 100)"
      ],
      "execution_count": 41,
      "outputs": [
        {
          "output_type": "stream",
          "text": [
            "Se llenará un array de 100 elementos con numeros random del 0 al 20\n",
            "La mediana es: 11.0\n"
          ],
          "name": "stdout"
        }
      ]
    },
    {
      "cell_type": "code",
      "metadata": {
        "colab": {
          "base_uri": "https://localhost:8080/"
        },
        "id": "1eoisQ2VjuaY",
        "outputId": "e499813a-d519-4f7d-cc93-05f27c603821"
      },
      "source": [
        "def factorial(numero = int):\n",
        "    if numero<= 0 or type(numero)!= int:\n",
        "        print('Error! Debe ser un numero positivo y entero')\n",
        "        return\n",
        "    array = np.array(range(1,numero +1))\n",
        "    resultado = np.prod(array)\n",
        "    print('El factorial de '+ str(numero) + ' es: '+ str(resultado))\n",
        "    \n",
        "factorial(4)"
      ],
      "execution_count": 45,
      "outputs": [
        {
          "output_type": "stream",
          "text": [
            "El factorial de 4 es: 24\n"
          ],
          "name": "stdout"
        }
      ]
    },
    {
      "cell_type": "code",
      "metadata": {
        "colab": {
          "base_uri": "https://localhost:8080/"
        },
        "id": "SipiokkcjymF",
        "outputId": "3cbcd236-bc09-43ed-af55-341e0510de83"
      },
      "source": [
        "def sumatoria(n1,n2):\n",
        "    if n1>n2 or n1<0 or n2<0:\n",
        "        print('Error. Ambos numeros deben ser positivos y el segundo debe ser mayor al primero')\n",
        "        return\n",
        "    array = np.array(range(n1,n2+1))\n",
        "    resultado = array.sum()\n",
        "    print('La sumatoria desde %g hasta %g es %g' % (n1,n2,resultado))\n",
        "    \n",
        "sumatoria(8,30)"
      ],
      "execution_count": 44,
      "outputs": [
        {
          "output_type": "stream",
          "text": [
            "La sumatoria desde 8 hasta 30 es 437\n"
          ],
          "name": "stdout"
        }
      ]
    },
    {
      "cell_type": "code",
      "metadata": {
        "colab": {
          "base_uri": "https://localhost:8080/"
        },
        "id": "cgL49Vbjj001",
        "outputId": "2f832e0f-5e4c-4d38-e615-f9b053e6ba15"
      },
      "source": [
        "gSheet_url = 'https://docs.google.com/spreadsheets/d/15Stnum8mI9QdwF9ZiPFCe3_qG9XyZyNzmOSIDunzPjA/export?format=csv&gid=255849258'\n",
        "\n",
        "def mediana_salarios(export_url):\n",
        "    salarios = pd.read_csv(export_url)\n",
        "    salarios = salarios[salarios['Estoy trabajando en']=='Argentina'][['Salario mensual NETO (en tu moneda local)']].copy().astype(float)\n",
        "    # salarios = salarios.convert_objects(convert_numeric=True).dropna()\n",
        "    mediana = salarios.median()\n",
        "    media = salarios.mean()\n",
        "    print('La mediana es:      %g' % mediana)\n",
        "    print('La media es:        %g' % media)\n",
        "    print('La diferencia es:   %g' % abs(media-mediana))\n",
        "\n",
        "mediana_salarios(gSheet_url)\n"
      ],
      "execution_count": 47,
      "outputs": [
        {
          "output_type": "stream",
          "text": [
            "La mediana es:      78000\n",
            "La media es:        94907.9\n",
            "La diferencia es:   16907.9\n"
          ],
          "name": "stdout"
        }
      ]
    }
  ]
}